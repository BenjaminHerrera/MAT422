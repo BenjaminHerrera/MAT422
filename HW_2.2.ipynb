{
 "cells": [
  {
   "cell_type": "markdown",
   "metadata": {},
   "source": [
    "# ⚠️ EDIT \"OPEN IN COLAB\" BADGE PRIOR TO DOING ASSIGNMENT"
   ]
  },
  {
   "cell_type": "markdown",
   "metadata": {},
   "source": [
    "<a target=\"_blank\" href=\"https://colab.research.google.com/github/BenjaminHerrera/MAT422/blob/main/HW_2.2.ipynb\">\n",
    "    <img src=\"https://colab.research.google.com/assets/colab-badge.svg\" alt=\"Open In Colab\"/>\n",
    "</a>"
   ]
  },
  {
   "cell_type": "markdown",
   "metadata": {},
   "source": [
    "# HW 2.2\n",
    "# Benjamin Herrera\n",
    "# 22 SEP 2024"
   ]
  },
  {
   "cell_type": "markdown",
   "metadata": {},
   "source": [
    "# ⚠️ Run these commands prior to running anything"
   ]
  },
  {
   "cell_type": "code",
   "execution_count": 2,
   "metadata": {
    "vscode": {
     "languageId": "bat"
    }
   },
   "outputs": [
    {
     "name": "stdout",
     "output_type": "stream",
     "text": [
      "Requirement already satisfied: scipy in c:\\users\\benhe\\miniconda3\\lib\\site-packages (1.12.0)\n",
      "Requirement already satisfied: numpy<1.29.0,>=1.22.4 in c:\\users\\benhe\\miniconda3\\lib\\site-packages (from scipy) (1.26.4)\n",
      "Requirement already satisfied: matplotlib in c:\\users\\benhe\\miniconda3\\lib\\site-packages (3.8.3)\n",
      "Requirement already satisfied: cycler>=0.10 in c:\\users\\benhe\\miniconda3\\lib\\site-packages (from matplotlib) (0.12.1)\n",
      "Requirement already satisfied: python-dateutil>=2.7 in c:\\users\\benhe\\appdata\\roaming\\python\\python39\\site-packages (from matplotlib) (2.8.2)\n",
      "Requirement already satisfied: fonttools>=4.22.0 in c:\\users\\benhe\\miniconda3\\lib\\site-packages (from matplotlib) (4.50.0)\n",
      "Requirement already satisfied: packaging>=20.0 in c:\\users\\benhe\\miniconda3\\lib\\site-packages (from matplotlib) (24.0)\n",
      "Requirement already satisfied: importlib-resources>=3.2.0 in c:\\users\\benhe\\miniconda3\\lib\\site-packages (from matplotlib) (6.4.0)\n",
      "Requirement already satisfied: contourpy>=1.0.1 in c:\\users\\benhe\\miniconda3\\lib\\site-packages (from matplotlib) (1.2.0)\n",
      "Requirement already satisfied: pillow>=8 in c:\\users\\benhe\\miniconda3\\lib\\site-packages (from matplotlib) (10.2.0)\n",
      "Requirement already satisfied: kiwisolver>=1.3.1 in c:\\users\\benhe\\miniconda3\\lib\\site-packages (from matplotlib) (1.4.5)\n",
      "Requirement already satisfied: numpy<2,>=1.21 in c:\\users\\benhe\\miniconda3\\lib\\site-packages (from matplotlib) (1.26.4)\n",
      "Requirement already satisfied: pyparsing>=2.3.1 in c:\\users\\benhe\\miniconda3\\lib\\site-packages (from matplotlib) (3.1.2)\n",
      "Requirement already satisfied: zipp>=3.1.0 in c:\\users\\benhe\\miniconda3\\lib\\site-packages (from importlib-resources>=3.2.0->matplotlib) (3.18.1)\n",
      "Requirement already satisfied: six>=1.5 in c:\\users\\benhe\\appdata\\roaming\\python\\python39\\site-packages (from python-dateutil>=2.7->matplotlib) (1.16.0)\n",
      "Requirement already satisfied: numpy in c:\\users\\benhe\\miniconda3\\lib\\site-packages (1.26.4)\n"
     ]
    }
   ],
   "source": [
    "!pip install scipy\n",
    "!pip install matplotlib\n",
    "!pip install numpy"
   ]
  },
  {
   "cell_type": "markdown",
   "metadata": {},
   "source": [
    "## 🪓 Probability Axioms"
   ]
  },
  {
   "cell_type": "markdown",
   "metadata": {},
   "source": [
    "Before moving further, let's discuss about **sample spaces** and **events**. One can think of a sample space as the set of all possible outcomes. This is like the $span(V)$ of some vector space $V$. Another example would be the possible selections of a single card from a deck of cards. An event on the other hand is the selection(s) of things from the set of all possible sets. In other words, it is the occurrence of something happening in the total possible space."
   ]
  },
  {
   "cell_type": "markdown",
   "metadata": {},
   "source": [
    "To define the probability distribution of an event $A$ from occurring from the sample space $S$, we denote that as $P(A)$. Here are some properties of this notion based on Definition 2.2.3 in the book:"
   ]
  },
  {
   "cell_type": "markdown",
   "metadata": {},
   "source": [
    "* $1 \\geq P(A) \\geq 0$\n",
    "* $P(S) = 1$\n",
    "* $P(A_1 \\cup A_2 \\cup \\dots A_n) = \\sum_{i=1}^{\\inf} P(A_i)$\n",
    "* If $P(A) = 1 - P(A')$, then $P(A) + P(A') = 1$\n",
    "* $P(A \\cup B) = P(A) + P(B) = P(A) + P(B) - P(A \\cap B)$"
   ]
  },
  {
   "cell_type": "markdown",
   "metadata": {},
   "source": [
    "Let's get an idea of this notion:"
   ]
  },
  {
   "cell_type": "code",
   "execution_count": 3,
   "metadata": {},
   "outputs": [
    {
     "name": "stdout",
     "output_type": "stream",
     "text": [
      "1st point passes!\n",
      "2nd and 3rd point passes! P(S) = 0.9\n",
      "4th point passes! P(A) + P(A') = 1.0\n",
      "5th point passes! P(A) + P(B) = 0.5\n",
      "                  P(A) + P(B) - P(A union B) = 0.5\n"
     ]
    }
   ],
   "source": [
    "# Define the sample set and four events. Each event represents the probability \n",
    "#    of a player 1 to 4 wins a grand prix\n",
    "S = {\n",
    "    \"A1\": 0.2,\n",
    "    \"A2\": 0.3,\n",
    "    \"A3\": 0.15,\n",
    "    \"A4\": 0.25\n",
    "}\n",
    "\n",
    "# Show that first point holds\n",
    "for i in S:\n",
    "    if S[i] > 1 or S[i] < 0:\n",
    "        print(\"1st point fails!\")\n",
    "print(\"1st point passes!\")\n",
    "\n",
    "# Show that second and third point holds\n",
    "total = 0\n",
    "for i in S:\n",
    "    total += S[i]\n",
    "print(\"2nd and 3rd point passes!\", f\"P(S) = {total}\")\n",
    "\n",
    "# Show that the fourth point holds:\n",
    "selected_event = \"A1\"\n",
    "target = S[selected_event]\n",
    "not_selected_event = 1 - target\n",
    "print(f\"4th point passes! P(A) + P(A') = {target + not_selected_event}\")\n",
    "\n",
    "# Show that the fifth point holds:\n",
    "A = \"A1\"\n",
    "B = \"A2\"\n",
    "A_value = S[A]\n",
    "B_value = S[B]\n",
    "print(f\"5th point passes! P(A) + P(B) = {A_value + B_value}\")\n",
    "print(f\"                  P(A) + P(B) - P(A union B) = {A_value + B_value - 0}\")"
   ]
  },
  {
   "cell_type": "markdown",
   "metadata": {},
   "source": [
    "## 🛂 Conditional Probability"
   ]
  },
  {
   "cell_type": "markdown",
   "metadata": {},
   "source": [
    "Conditional probability is the idea of a probability for an event to happen given that another event occurs beforehand. Given an event A happening from event B that has occurred before A, we define this conditional probability as: "
   ]
  },
  {
   "cell_type": "markdown",
   "metadata": {},
   "source": [
    "$$P(A | B) = \\frac{P(A \\cap B)}{P(B)}$$"
   ]
  },
  {
   "cell_type": "markdown",
   "metadata": {},
   "source": [
    "For example, let's say that Sal drank a beer is event A and Sal took an Uber is event B. We first find the probability of A and B happening. Of course that is going to happen because Sal is a good man and he know's that he can't drive to the bar or else he will drive drunk. Afterwards, we take the probability of B happening. Given the entire sample size $S$, $P(A \\cap B) = 0.5$ and $P(B) = 0.7$. Therefore, $P(A | B) = 0.71$"
   ]
  },
  {
   "cell_type": "markdown",
   "metadata": {},
   "source": [
    "Likewise, we can also isolate $P(A \\cap B)$ via"
   ]
  },
  {
   "cell_type": "markdown",
   "metadata": {},
   "source": [
    "$$P(A \\cap B) = P(A | B) \\cdot P(B)$$"
   ]
  },
  {
   "cell_type": "markdown",
   "metadata": {},
   "source": [
    "## 🎲 Discrete Random Variables"
   ]
  },
  {
   "cell_type": "markdown",
   "metadata": {},
   "source": [
    "A random variable is defined as the mapping of a sample space to the field of real numbers. For example:"
   ]
  },
  {
   "cell_type": "code",
   "execution_count": 5,
   "metadata": {},
   "outputs": [
    {
     "name": "stdout",
     "output_type": "stream",
     "text": [
      "[22, 5, 32, 48, 90]\n"
     ]
    }
   ],
   "source": [
    "# Import the random library\n",
    "import random\n",
    "\n",
    "# Let's say that each index of this below list is a unique ID of some \n",
    "#   members in the triple-comma club (billionaire's club). The value of each\n",
    "#   index is the number of Brabus cars AND Rolls Royce cars they own. \n",
    "# There are roughly 3,194 billionaires in the world\n",
    "S_to_R = [random.randint(0, 100) for _ in range(3_194)]\n",
    "\n",
    "# Show the first five billionaire's luxury car count\n",
    "print(S_to_R[:5])"
   ]
  },
  {
   "cell_type": "markdown",
   "metadata": {},
   "source": [
    "Obviously, there's no actual billionaire's club (that we know of just yet), but you can see that at index 0, billionaire ID 0 has 22 Brabuses and Rolls ). We have mapped some random sample space to a real space. "
   ]
  },
  {
   "cell_type": "markdown",
   "metadata": {},
   "source": [
    "Now we come to the idea of a probability mass function (PMF). A PMF is a function that determines the probability of a discrete random variable mapping to some value real value. In other words and in an example, if we are looking at billionaire ID 0's number of luxury cars, it is 22. If we were to plot out the PMF for 22 luxury cars, the x-axis value of 1 would be 1.0 while everything is 0. This notation is as:"
   ]
  },
  {
   "cell_type": "markdown",
   "metadata": {},
   "source": [
    "$$p(x) = P(X = x)$$"
   ]
  },
  {
   "cell_type": "markdown",
   "metadata": {},
   "source": [
    "On the other hand, the cumulative distribution function is defined as the probability of all real space variables being mapped to it by some event via an equality. In other words: "
   ]
  },
  {
   "cell_type": "markdown",
   "metadata": {},
   "source": [
    "$$F(x) = P(X \\leq x)$$"
   ]
  },
  {
   "cell_type": "markdown",
   "metadata": {},
   "source": [
    "If we were to apply this idea to the triple-comma club example, we would see that the $F(X) = P(22 \\leq 5)$ would be 1 since ID 0 has a value of 1.0. "
   ]
  },
  {
   "cell_type": "markdown",
   "metadata": {},
   "source": [
    "This also brings in the idea of expected value (mean). Like it states itself, the expected value is the summation of every real value ID multiplied by its probability. Bringing to our triple-comma club example again, the expected value of 22 is 1.0. "
   ]
  },
  {
   "cell_type": "markdown",
   "metadata": {},
   "source": [
    "## 🌊 Continuous Random Variables"
   ]
  },
  {
   "cell_type": "markdown",
   "metadata": {},
   "source": [
    "The concepts and ideas of random variables also apply to continuous ones as well. However, their definitions are going to change a little. For starters, we can define the PDF of X random variable as:"
   ]
  },
  {
   "cell_type": "markdown",
   "metadata": {},
   "source": [
    "$$P(a \\leq X \\leq b) = \\int_a^b f(x)dx$$"
   ]
  },
  {
   "cell_type": "markdown",
   "metadata": {},
   "source": [
    "For expected value, it is simply defined as:"
   ]
  },
  {
   "cell_type": "markdown",
   "metadata": {},
   "source": [
    "$$E(X) = \\int_{-\\inf}^{\\inf} x \\cdot f(x) dx$$"
   ]
  },
  {
   "cell_type": "markdown",
   "metadata": {},
   "source": [
    "Because now that we are working with continuous random variables, we can define a normal distribution. A normal distribution is a hill shaped distribution that closely represents real-world distributions that are unknown. A normal distribution has parameters of population mean $\\mu$ and variance $\\sigma^2$. When we sample from a normal distribution we denote this as:"
   ]
  },
  {
   "cell_type": "markdown",
   "metadata": {},
   "source": [
    "$$X \\sim N(\\mu, \\sigma^2)$$"
   ]
  },
  {
   "cell_type": "markdown",
   "metadata": {},
   "source": [
    "Applications of this are useful for social sciences and machine learning. For example, most distributions of datasets, with regards to their diversity of classes, can be seen as a normal distribution if they were to be sample from real world sources. Data pre-processing steps, would likely try to even out this distribution to get a general performance across all classes. However, No-Free-Lunch applies in this case."
   ]
  }
 ],
 "metadata": {
  "kernelspec": {
   "display_name": "base",
   "language": "python",
   "name": "python3"
  },
  "language_info": {
   "codemirror_mode": {
    "name": "ipython",
    "version": 3
   },
   "file_extension": ".py",
   "mimetype": "text/x-python",
   "name": "python",
   "nbconvert_exporter": "python",
   "pygments_lexer": "ipython3",
   "version": "3.9.5"
  }
 },
 "nbformat": 4,
 "nbformat_minor": 2
}
