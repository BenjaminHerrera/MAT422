{
 "cells": [
  {
   "cell_type": "markdown",
   "metadata": {},
   "source": [
    "# ⚠️ EDIT \"OPEN IN COLAB\" BADGE PRIOR TO DOING ASSIGNMENT"
   ]
  },
  {
   "cell_type": "markdown",
   "metadata": {},
   "source": [
    "<a target=\"_blank\" href=\"https://colab.research.google.com/github/BenjaminHerrera/MAT422/blob/main/HW_1.4.ipynb\">\n",
    "    <img src=\"https://colab.research.google.com/assets/colab-badge.svg\" alt=\"Open In Colab\"/>\n",
    "</a>"
   ]
  },
  {
   "cell_type": "markdown",
   "metadata": {},
   "source": [
    "# HW 1.4\n",
    "# Benjamin Herrera\n",
    "# 15 SEP 2024"
   ]
  },
  {
   "cell_type": "markdown",
   "metadata": {},
   "source": [
    "# ⚠️ Run these commands prior to running anything"
   ]
  },
  {
   "cell_type": "code",
   "execution_count": 94,
   "metadata": {
    "vscode": {
     "languageId": "bat"
    }
   },
   "outputs": [
    {
     "name": "stdout",
     "output_type": "stream",
     "text": [
      "Requirement already satisfied: scipy in c:\\users\\benhe\\miniconda3\\lib\\site-packages (1.12.0)\n",
      "Requirement already satisfied: numpy<1.29.0,>=1.22.4 in c:\\users\\benhe\\miniconda3\\lib\\site-packages (from scipy) (1.26.4)\n",
      "Requirement already satisfied: matplotlib in c:\\users\\benhe\\miniconda3\\lib\\site-packages (3.8.3)\n",
      "Requirement already satisfied: packaging>=20.0 in c:\\users\\benhe\\miniconda3\\lib\\site-packages (from matplotlib) (24.0)\n",
      "Requirement already satisfied: python-dateutil>=2.7 in c:\\users\\benhe\\appdata\\roaming\\python\\python39\\site-packages (from matplotlib) (2.8.2)\n",
      "Requirement already satisfied: contourpy>=1.0.1 in c:\\users\\benhe\\miniconda3\\lib\\site-packages (from matplotlib) (1.2.0)\n",
      "Requirement already satisfied: kiwisolver>=1.3.1 in c:\\users\\benhe\\miniconda3\\lib\\site-packages (from matplotlib) (1.4.5)\n",
      "Requirement already satisfied: importlib-resources>=3.2.0 in c:\\users\\benhe\\miniconda3\\lib\\site-packages (from matplotlib) (6.4.0)\n",
      "Requirement already satisfied: cycler>=0.10 in c:\\users\\benhe\\miniconda3\\lib\\site-packages (from matplotlib) (0.12.1)\n",
      "Requirement already satisfied: pillow>=8 in c:\\users\\benhe\\miniconda3\\lib\\site-packages (from matplotlib) (10.2.0)\n",
      "Requirement already satisfied: pyparsing>=2.3.1 in c:\\users\\benhe\\miniconda3\\lib\\site-packages (from matplotlib) (3.1.2)\n",
      "Requirement already satisfied: fonttools>=4.22.0 in c:\\users\\benhe\\miniconda3\\lib\\site-packages (from matplotlib) (4.50.0)\n",
      "Requirement already satisfied: numpy<2,>=1.21 in c:\\users\\benhe\\miniconda3\\lib\\site-packages (from matplotlib) (1.26.4)\n",
      "Requirement already satisfied: zipp>=3.1.0 in c:\\users\\benhe\\miniconda3\\lib\\site-packages (from importlib-resources>=3.2.0->matplotlib) (3.18.1)\n",
      "Requirement already satisfied: six>=1.5 in c:\\users\\benhe\\appdata\\roaming\\python\\python39\\site-packages (from python-dateutil>=2.7->matplotlib) (1.16.0)\n",
      "Requirement already satisfied: numpy in c:\\users\\benhe\\miniconda3\\lib\\site-packages (1.26.4)\n"
     ]
    }
   ],
   "source": [
    "!pip install scipy\n",
    "!pip install matplotlib\n",
    "!pip install numpy"
   ]
  },
  {
   "cell_type": "markdown",
   "metadata": {},
   "source": [
    "## 📐 Singular Value Decomposition"
   ]
  },
  {
   "cell_type": "code",
   "execution_count": 95,
   "metadata": {},
   "outputs": [
    {
     "name": "stdout",
     "output_type": "stream",
     "text": [
      "[[0.88735353 0.49742042 0.13919996 0.49907701]\n",
      " [0.6846934  0.00382974 0.08074103 0.364216  ]\n",
      " [0.62553704 0.49257638 0.62480823 0.42798695]\n",
      " [0.57327704 0.28111796 0.58368079 0.32001847]\n",
      " [0.4142691  0.04015631 0.74039113 0.14411758]]\n"
     ]
    }
   ],
   "source": [
    "# Imports\n",
    "import numpy as np\n",
    "\n",
    "# Let's assume some random 5x4 matrix\n",
    "A = np.random.rand(5,4)\n",
    "\n",
    "# Show the matrix \n",
    "print(A)"
   ]
  },
  {
   "cell_type": "code",
   "execution_count": 96,
   "metadata": {},
   "outputs": [
    {
     "name": "stdout",
     "output_type": "stream",
     "text": [
      "[[2.14776337 0.92992873 1.21097507 1.20311843]\n",
      " [0.92992873 0.57071307 0.57113043 0.55621239]\n",
      " [1.21097507 0.57113043 1.30514336 0.65978046]\n",
      " [1.20311843 0.55621239 0.65978046 0.68808569]]\n"
     ]
    }
   ],
   "source": [
    "# When we multiply the transpose of A against itself, we get a resulting matrix\n",
    "#   that is orthogonally diagonalized\n",
    "A_result = np.matmul(A.transpose(), A) \n",
    "\n",
    "# Show the matrix\n",
    "print(A_result)"
   ]
  },
  {
   "cell_type": "code",
   "execution_count": 97,
   "metadata": {},
   "outputs": [
    {
     "name": "stdout",
     "output_type": "stream",
     "text": [
      "Eigenvalues:\n",
      "[4.06754243 0.50018756 0.00417386 0.13980164]\n",
      "\n",
      "Eigenvectors:\n",
      "[[ 0.71056027  0.37322887  0.43224528  0.41105758]\n",
      " [ 0.33024291  0.14713122  0.19676355 -0.9113595 ]\n",
      " [ 0.47533853 -0.87849931 -0.04295501  0.02114481]\n",
      " [ 0.40012124  0.25940618 -0.87897838 -0.00290441]]\n",
      "\n"
     ]
    }
   ],
   "source": [
    "# Now let's find the eigenvectors of A \n",
    "A_eigenvalues, A_eigenvectors = np.linalg.eig(A_result)\n",
    "\n",
    "# Show the eigenvalues and eigen vectors\n",
    "print(\"Eigenvalues:\")\n",
    "print(A_eigenvalues)\n",
    "print()\n",
    "print(\"Eigenvectors:\")\n",
    "print(A_eigenvectors)\n",
    "print()"
   ]
  },
  {
   "cell_type": "code",
   "execution_count": 98,
   "metadata": {},
   "outputs": [
    {
     "name": "stdout",
     "output_type": "stream",
     "text": [
      "[[-0.71056027 -0.37322887  0.43224528  0.41105758]\n",
      " [-0.33024291 -0.14713122  0.19676355 -0.9113595 ]\n",
      " [-0.47533853  0.87849931 -0.04295501  0.02114481]\n",
      " [-0.40012124 -0.25940618 -0.87897838 -0.00290441]]\n"
     ]
    }
   ],
   "source": [
    "# Let's also get the orthonormal basis of the eigenvectors\n",
    "Q, _ = np.linalg.qr(A_eigenvectors)\n",
    "\n",
    "# Show the orthonormal basis \n",
    "print(Q)"
   ]
  },
  {
   "cell_type": "markdown",
   "metadata": {},
   "source": [
    "If we conduct the following calculations:"
   ]
  },
  {
   "cell_type": "markdown",
   "metadata": {},
   "source": [
    "$$||Av_i||^2 = (Av_i)^T Av_i = v_i^T A^T A v_i$$"
   ]
  },
  {
   "cell_type": "markdown",
   "metadata": {},
   "source": [
    "We get:"
   ]
  },
  {
   "cell_type": "code",
   "execution_count": 99,
   "metadata": {},
   "outputs": [
    {
     "name": "stdout",
     "output_type": "stream",
     "text": [
      "4.067542428694026\n",
      "0.5001875647833662\n",
      "0.004173855226968785\n",
      "0.13980163864480294\n"
     ]
    }
   ],
   "source": [
    "# Calculate the norm\n",
    "for i in range(len(A_eigenvectors)):\n",
    "    print(A_eigenvectors[i].T @ (A_eigenvalues[i] * A_eigenvectors[i]))"
   ]
  },
  {
   "cell_type": "markdown",
   "metadata": {},
   "source": [
    "Which are the the eigenvalues of the matrix. This means that $||Av_i||^2$ are eigenvectors for $[i, n]$"
   ]
  },
  {
   "cell_type": "code",
   "execution_count": 100,
   "metadata": {},
   "outputs": [
    {
     "name": "stdout",
     "output_type": "stream",
     "text": [
      "[2.016814921774931, 0.7072393970809081, 0.06460538078959666, 0.3739005732073742]\n"
     ]
    }
   ],
   "source": [
    "# We define the singular values of A as the square root of the eigenvalues\n",
    "A_singular_values = [np.sqrt(i) for i in A_eigenvalues]\n",
    "\n",
    "# Show the singular values\n",
    "print(A_singular_values)"
   ]
  },
  {
   "cell_type": "markdown",
   "metadata": {},
   "source": [
    "In other words, this is just $\\{||Av_1||, \\dots, ||Av_n||\\}$"
   ]
  },
  {
   "cell_type": "code",
   "execution_count": 101,
   "metadata": {},
   "outputs": [
    {
     "name": "stdout",
     "output_type": "stream",
     "text": [
      "4\n",
      "4\n"
     ]
    }
   ],
   "source": [
    "# A cool thing is that the number of nonzero singular values equal to the \n",
    "#   dimensions of col(A)\n",
    "count = 0\n",
    "for i in A_singular_values:\n",
    "    if i >= 0:\n",
    "        count += 1\n",
    "        \n",
    "# Show the number of nonzero singular values\n",
    "print(count)\n",
    "\n",
    "# Show the dimension of col(A)\n",
    "rank = np.linalg.matrix_rank(A)\n",
    "col_space = Q[:, :rank]\n",
    "print(col_space.shape[0])"
   ]
  },
  {
   "cell_type": "code",
   "execution_count": 102,
   "metadata": {},
   "outputs": [
    {
     "name": "stdout",
     "output_type": "stream",
     "text": [
      "U\n",
      "[[-0.52590158 -0.58190851 -0.23290041  0.56916847  0.08133058]\n",
      " [-0.33314438 -0.39542447  0.74513809 -0.41633028  0.06397371]\n",
      " [-0.53321389  0.18654121 -0.480914   -0.55294787  0.37928315]\n",
      " [-0.44906315  0.24662602 -0.02443778 -0.05032498 -0.85696446]\n",
      " [-0.35562283  0.6398437   0.39831036  0.4409449   0.33324001]]\n",
      "\n",
      "E\n",
      "[[2.01681492 0.         0.         0.        ]\n",
      " [0.         0.7072394  0.         0.        ]\n",
      " [0.         0.         0.37390057 0.        ]\n",
      " [0.         0.         0.         0.06460538]\n",
      " [0.         0.         0.         0.        ]]\n",
      "\n",
      "V\n",
      "[[-0.71056027 -0.33024291 -0.47533853 -0.40012124]\n",
      " [-0.37322887 -0.14713122  0.87849931 -0.25940618]\n",
      " [ 0.41105758 -0.9113595   0.02114481 -0.00290441]\n",
      " [ 0.43224528  0.19676355 -0.04295501 -0.87897838]]\n",
      "\n"
     ]
    }
   ],
   "source": [
    "# We can now conduct a SVD of A, simply with this line\n",
    "U, E, V = np.linalg.svd(A, full_matrices=True)\n",
    "\n",
    "# Show the m x m orthogonal matrix U\n",
    "print(\"U\")\n",
    "print(U)\n",
    "print()\n",
    "\n",
    "# Show the m x n matrix E\n",
    "diag_E = np.append(np.diag(E), [np.zeros(4)], axis=0)\n",
    "m, n = A.shape\n",
    "print(\"E\")\n",
    "print(np.append(np.diag(E), [np.zeros(4)] * (m - n), axis=0))\n",
    "print()\n",
    "\n",
    "# Show the n x n orthogonal matrix V\n",
    "print(\"V\")\n",
    "print(V)\n",
    "print()"
   ]
  },
  {
   "cell_type": "code",
   "execution_count": 103,
   "metadata": {},
   "outputs": [
    {
     "name": "stdout",
     "output_type": "stream",
     "text": [
      "Reconstructed\n",
      "[[0.88735353 0.49742042 0.13919996 0.49907701]\n",
      " [0.6846934  0.00382974 0.08074103 0.364216  ]\n",
      " [0.62553704 0.49257638 0.62480823 0.42798695]\n",
      " [0.57327704 0.28111796 0.58368079 0.32001847]\n",
      " [0.4142691  0.04015631 0.74039113 0.14411758]]\n",
      "\n",
      "Original\n",
      "[[0.88735353 0.49742042 0.13919996 0.49907701]\n",
      " [0.6846934  0.00382974 0.08074103 0.364216  ]\n",
      " [0.62553704 0.49257638 0.62480823 0.42798695]\n",
      " [0.57327704 0.28111796 0.58368079 0.32001847]\n",
      " [0.4142691  0.04015631 0.74039113 0.14411758]]\n",
      "\n"
     ]
    }
   ],
   "source": [
    "# We can now construct the original matrix as such\n",
    "print(\"Reconstructed\")\n",
    "print(U @ diag_E @ V)\n",
    "print()\n",
    "\n",
    "# Show the original matrix\n",
    "print(\"Original\")\n",
    "print(A)\n",
    "print()"
   ]
  },
  {
   "cell_type": "markdown",
   "metadata": {},
   "source": [
    "# ⛵ Low-Rank Matrix Approximations"
   ]
  },
  {
   "cell_type": "markdown",
   "metadata": {},
   "source": [
    "Using the same information (code and all), let's define the induced norm. This defined as the distance between two different matrixes. Chapter 1.4.2 definitions this as below:"
   ]
  },
  {
   "cell_type": "markdown",
   "metadata": {},
   "source": [
    "$$||A||_2 = \\max_{0\\neq x \\isin \\Reals^{m}} \\frac{||Ax||}{||x||} = \\max_{x \\neq 0, ||x|| = 1} ||Ax|| = \\max_{x \\neq 0, ||X|| = 1} x^T A^T A x$$"
   ]
  },
  {
   "cell_type": "markdown",
   "metadata": {},
   "source": [
    "In other words:"
   ]
  },
  {
   "cell_type": "markdown",
   "metadata": {},
   "source": [
    "$$||A||_2 = \\sqrt{\\lambda_{max} A^T A}$$"
   ]
  },
  {
   "cell_type": "markdown",
   "metadata": {},
   "source": [
    "With the previous definitions of the singular values, $m \\times m$ U vectors, and the eigenvectors $v_j$, we can reconstruct $A$"
   ]
  },
  {
   "cell_type": "code",
   "execution_count": 104,
   "metadata": {},
   "outputs": [
    {
     "name": "stdout",
     "output_type": "stream",
     "text": [
      "[[0.13764184 0.58794198 0.72148699 0.8350014  0.85421972]\n",
      " [0.11548941 0.24986147 0.23709128 0.73068796 0.51205903]\n",
      " [0.71816021 0.38687043 0.69335651 0.86855307 0.94293794]\n",
      " [0.91193655 0.43580569 0.28310736 0.1308815  0.24253488]]\n"
     ]
    }
   ],
   "source": [
    "# Let's define a new matrix in n x m format\n",
    "A = np.random.rand(4,5)\n",
    "A_result = A.transpose() @ A \n",
    "A_eigenvalues, A_eigenvectors = np.linalg.eig(A_result)\n",
    "Q, _ = np.linalg.qr(A_eigenvectors)\n",
    "A_singular_values = [np.sqrt(i) for i in A_eigenvalues]\n",
    "U, E, V = np.linalg.svd(A, full_matrices=True)\n",
    "n, m = A.shape\n",
    "\n",
    "# Print A\n",
    "print(A)\n"
   ]
  },
  {
   "cell_type": "code",
   "execution_count": 105,
   "metadata": {},
   "outputs": [
    {
     "name": "stdout",
     "output_type": "stream",
     "text": [
      "[[0.13764184 0.58794198 0.72148699 0.8350014  0.85421972]\n",
      " [0.11548941 0.24986147 0.23709128 0.73068796 0.51205903]\n",
      " [0.71816021 0.38687043 0.69335651 0.86855307 0.94293794]\n",
      " [0.91193655 0.43580569 0.28310736 0.1308815  0.24253488]]\n"
     ]
    }
   ],
   "source": [
    "# Build a reconstruction of A with singular values, m x m U vectors, and \n",
    "#   eigenvectors of A\n",
    "A_reconstructed = np.zeros((n, m))\n",
    "for j in range(len(E)):\n",
    "    A_reconstructed += E[j] * np.outer(U[:, j], V[j, :])\n",
    "    \n",
    "# Print the resulting matrix\n",
    "print(A_reconstructed)"
   ]
  },
  {
   "cell_type": "markdown",
   "metadata": {},
   "source": [
    "YAY! It's the same! A cool thing is that we can create a \"resolution\" of the reconstruction by specifying if we want all of the of terms or part of it. Below is an example with half of the terms:"
   ]
  },
  {
   "cell_type": "code",
   "execution_count": 106,
   "metadata": {},
   "outputs": [
    {
     "name": "stdout",
     "output_type": "stream",
     "text": [
      "[[0.20249784 0.43829494 0.62783005 0.93322483 0.87657095]\n",
      " [0.07032496 0.26178826 0.38799984 0.59705256 0.55071557]\n",
      " [0.67587424 0.55566654 0.68828551 0.85486065 0.886516  ]\n",
      " [0.93192    0.34500337 0.29574798 0.12955331 0.27568101]]\n"
     ]
    }
   ],
   "source": [
    "# Build a reconstruction of A with singular values, m x m U vectors, and \n",
    "#   eigenvectors of A. \n",
    "# But this time, with half of the terms\n",
    "k = int(len(E) / 2)\n",
    "A_reconstructed_k = np.zeros((n, m))\n",
    "for j in range(k):\n",
    "    A_reconstructed_k += E[j] * np.outer(U[:, j], V[j, :])\n",
    "    \n",
    "# Print the resulting matrix\n",
    "print(A_reconstructed_k)"
   ]
  },
  {
   "cell_type": "markdown",
   "metadata": {},
   "source": [
    "Using this idea, we can show that:"
   ]
  },
  {
   "cell_type": "markdown",
   "metadata": {},
   "source": [
    "$$||A - A_k||_2^2 = \\sigma_{k+1}^2$$ "
   ]
  },
  {
   "cell_type": "code",
   "execution_count": 107,
   "metadata": {},
   "outputs": [
    {
     "name": "stdout",
     "output_type": "stream",
     "text": [
      "0.09123701062262397\n",
      "0.09123701062262397\n"
     ]
    }
   ],
   "source": [
    "# Demonstrate the above notion\n",
    "A_difference = A_reconstructed - A_reconstructed_k\n",
    "A_induced_norm = np.linalg.norm(A_difference, ord=2) # induced norm\n",
    "\n",
    "# Show similarities\n",
    "print(E[k] ** 2)\n",
    "print(A_induced_norm ** 2)"
   ]
  }
 ],
 "metadata": {
  "kernelspec": {
   "display_name": "base",
   "language": "python",
   "name": "python3"
  },
  "language_info": {
   "codemirror_mode": {
    "name": "ipython",
    "version": 3
   },
   "file_extension": ".py",
   "mimetype": "text/x-python",
   "name": "python",
   "nbconvert_exporter": "python",
   "pygments_lexer": "ipython3",
   "version": "3.9.12"
  }
 },
 "nbformat": 4,
 "nbformat_minor": 2
}
